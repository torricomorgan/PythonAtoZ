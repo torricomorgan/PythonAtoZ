{
 "cells": [
  {
   "cell_type": "code",
   "execution_count": 2,
   "id": "f99bf591-ed94-4cf5-a12a-fd37b781d0e6",
   "metadata": {},
   "outputs": [
    {
     "name": "stdout",
     "output_type": "stream",
     "text": [
      "[1, 3, 5, 7, 9, 11, 13, 15, 17, 19]\n"
     ]
    }
   ],
   "source": [
    "l = list(range(1,20,2))\n",
    "print(l)"
   ]
  },
  {
   "cell_type": "code",
   "execution_count": 3,
   "id": "23bc4fb9-5b2b-4256-801a-3e54cf92b6ec",
   "metadata": {},
   "outputs": [
    {
     "data": {
      "text/plain": [
       "7"
      ]
     },
     "execution_count": 3,
     "metadata": {},
     "output_type": "execute_result"
    }
   ],
   "source": [
    "l[3]"
   ]
  },
  {
   "cell_type": "code",
   "execution_count": 4,
   "id": "85c15908-c3db-4002-b9da-df662a7a27ff",
   "metadata": {},
   "outputs": [
    {
     "data": {
      "text/plain": [
       "10"
      ]
     },
     "execution_count": 4,
     "metadata": {},
     "output_type": "execute_result"
    }
   ],
   "source": [
    "len(l)"
   ]
  },
  {
   "cell_type": "code",
   "execution_count": 5,
   "id": "2204bf39-2291-498c-9e92-05446c98e2f3",
   "metadata": {},
   "outputs": [
    {
     "data": {
      "text/plain": [
       "19"
      ]
     },
     "execution_count": 5,
     "metadata": {},
     "output_type": "execute_result"
    }
   ],
   "source": [
    "l[-1]"
   ]
  },
  {
   "cell_type": "code",
   "execution_count": 6,
   "id": "2d542a7a-4997-40e7-b7fc-1c8a120370f7",
   "metadata": {},
   "outputs": [],
   "source": [
    "l[-1]=99"
   ]
  },
  {
   "cell_type": "code",
   "execution_count": 7,
   "id": "32dc0e00-31bb-4a21-8e0c-2e65f072e822",
   "metadata": {},
   "outputs": [
    {
     "name": "stdout",
     "output_type": "stream",
     "text": [
      "[1, 3, 5, 7, 9, 11, 13, 15, 17, 99]\n"
     ]
    }
   ],
   "source": [
    "print(l)"
   ]
  },
  {
   "cell_type": "code",
   "execution_count": 8,
   "id": "9ad314d5-445f-46c9-a738-5adaa6063156",
   "metadata": {},
   "outputs": [
    {
     "data": {
      "text/plain": [
       "[1, 3, 5, 7, 9, 11, 13, 15, 17]"
      ]
     },
     "execution_count": 8,
     "metadata": {},
     "output_type": "execute_result"
    }
   ],
   "source": [
    "l[:-1]"
   ]
  },
  {
   "cell_type": "code",
   "execution_count": 9,
   "id": "badde2a3-a32f-451d-9847-2ea540359f32",
   "metadata": {},
   "outputs": [
    {
     "data": {
      "text/plain": [
       "[5, 7, 9]"
      ]
     },
     "execution_count": 9,
     "metadata": {},
     "output_type": "execute_result"
    }
   ],
   "source": [
    "l[2:5]"
   ]
  },
  {
   "cell_type": "code",
   "execution_count": 10,
   "id": "b743ece6-47be-4637-ae19-6a0906dff6e2",
   "metadata": {},
   "outputs": [
    {
     "data": {
      "text/plain": [
       "[1, 5, 9, 13, 17]"
      ]
     },
     "execution_count": 10,
     "metadata": {},
     "output_type": "execute_result"
    }
   ],
   "source": [
    "l[:-1:2]"
   ]
  },
  {
   "cell_type": "code",
   "execution_count": 11,
   "id": "1b7c565c-4ce6-4bf3-8e24-f7cd6af55b60",
   "metadata": {},
   "outputs": [
    {
     "data": {
      "text/plain": [
       "[99, 17, 15, 13, 11, 9, 7, 5, 3, 1]"
      ]
     },
     "execution_count": 11,
     "metadata": {},
     "output_type": "execute_result"
    }
   ],
   "source": [
    "l[::-1]"
   ]
  },
  {
   "cell_type": "code",
   "execution_count": 12,
   "id": "8417bbea-4653-4cfa-9fde-891690083e90",
   "metadata": {},
   "outputs": [
    {
     "data": {
      "text/plain": [
       "[5, 7]"
      ]
     },
     "execution_count": 12,
     "metadata": {},
     "output_type": "execute_result"
    }
   ],
   "source": [
    "l[2:4:1]"
   ]
  },
  {
   "cell_type": "code",
   "execution_count": 18,
   "id": "5da481b9-6fc5-4a16-8005-d6e7a4673d4a",
   "metadata": {},
   "outputs": [
    {
     "data": {
      "text/plain": [
       "[7, 5]"
      ]
     },
     "execution_count": 18,
     "metadata": {},
     "output_type": "execute_result"
    }
   ],
   "source": [
    "l[3:1:-1]"
   ]
  },
  {
   "cell_type": "markdown",
   "id": "9591ab01-4c1a-44ab-8566-91c0895ce680",
   "metadata": {},
   "source": [
    "# Tuple\n",
    "Immutable list"
   ]
  },
  {
   "cell_type": "code",
   "execution_count": 19,
   "id": "b60190b1-8a94-4fd9-908f-5889cd325bc1",
   "metadata": {},
   "outputs": [],
   "source": [
    "t = (134, 232, 423)"
   ]
  },
  {
   "cell_type": "code",
   "execution_count": 20,
   "id": "f9b3523f-c3c7-40e5-b6e6-7bb546c4ad94",
   "metadata": {},
   "outputs": [
    {
     "name": "stdout",
     "output_type": "stream",
     "text": [
      "(134, 232, 423)\n"
     ]
    }
   ],
   "source": [
    "print (t)"
   ]
  },
  {
   "cell_type": "code",
   "execution_count": 21,
   "id": "59a5eacb-4e0c-4db3-ac2c-d75f1063c165",
   "metadata": {},
   "outputs": [
    {
     "data": {
      "text/plain": [
       "232"
      ]
     },
     "execution_count": 21,
     "metadata": {},
     "output_type": "execute_result"
    }
   ],
   "source": [
    "t[1]"
   ]
  },
  {
   "cell_type": "code",
   "execution_count": 22,
   "id": "c5be0f9f-62c9-4ac9-82a8-8207f1c9c189",
   "metadata": {},
   "outputs": [
    {
     "ename": "TypeError",
     "evalue": "'tuple' object does not support item assignment",
     "output_type": "error",
     "traceback": [
      "\u001b[1;31m---------------------------------------------------------------------------\u001b[0m",
      "\u001b[1;31mTypeError\u001b[0m                                 Traceback (most recent call last)",
      "Cell \u001b[1;32mIn[22], line 1\u001b[0m\n\u001b[1;32m----> 1\u001b[0m t[\u001b[38;5;241m2\u001b[39m]\u001b[38;5;241m=\u001b[39m\u001b[38;5;241m999\u001b[39m\n",
      "\u001b[1;31mTypeError\u001b[0m: 'tuple' object does not support item assignment"
     ]
    }
   ],
   "source": [
    "t[2]=999"
   ]
  },
  {
   "cell_type": "code",
   "execution_count": null,
   "id": "32fd611c-9acb-4be0-8657-eaeb8aa49f46",
   "metadata": {},
   "outputs": [],
   "source": []
  }
 ],
 "metadata": {
  "kernelspec": {
   "display_name": "Python 3 (ipykernel)",
   "language": "python",
   "name": "python3"
  },
  "language_info": {
   "codemirror_mode": {
    "name": "ipython",
    "version": 3
   },
   "file_extension": ".py",
   "mimetype": "text/x-python",
   "name": "python",
   "nbconvert_exporter": "python",
   "pygments_lexer": "ipython3",
   "version": "3.11.7"
  }
 },
 "nbformat": 4,
 "nbformat_minor": 5
}

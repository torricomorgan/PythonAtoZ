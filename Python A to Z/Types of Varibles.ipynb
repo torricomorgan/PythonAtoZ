{
 "cells": [
  {
   "cell_type": "code",
   "execution_count": 1,
   "id": "3648c67b-492e-4452-bf1b-89a5297d0d77",
   "metadata": {},
   "outputs": [
    {
     "data": {
      "text/plain": [
       "2"
      ]
     },
     "execution_count": 1,
     "metadata": {},
     "output_type": "execute_result"
    }
   ],
   "source": [
    "#integer\n",
    "x=2\n",
    "x"
   ]
  },
  {
   "cell_type": "code",
   "execution_count": null,
   "id": "11840308-c1b6-4573-997c-38b9e75f3fd1",
   "metadata": {},
   "outputs": [],
   "source": [
    "type(x)"
   ]
  },
  {
   "cell_type": "markdown",
   "id": "273c7287-2b10-4f6f-a94c-899a199c5cbc",
   "metadata": {},
   "source": [
    "---"
   ]
  },
  {
   "cell_type": "code",
   "execution_count": 4,
   "id": "aaa9eab1-f3eb-4f9c-925e-442cd095bdba",
   "metadata": {},
   "outputs": [
    {
     "data": {
      "text/plain": [
       "'Test of string'"
      ]
     },
     "execution_count": 4,
     "metadata": {},
     "output_type": "execute_result"
    }
   ],
   "source": [
    "a = \"Test of string\"\n",
    "a"
   ]
  },
  {
   "cell_type": "markdown",
   "id": "550d5bb4-a169-4d3f-94a6-007fd70043b7",
   "metadata": {},
   "source": []
  }
 ],
 "metadata": {
  "kernelspec": {
   "display_name": "Python 3 (ipykernel)",
   "language": "python",
   "name": "python3"
  },
  "language_info": {
   "codemirror_mode": {
    "name": "ipython",
    "version": 3
   },
   "file_extension": ".py",
   "mimetype": "text/x-python",
   "name": "python",
   "nbconvert_exporter": "python",
   "pygments_lexer": "ipython3",
   "version": "3.11.7"
  }
 },
 "nbformat": 4,
 "nbformat_minor": 5
}

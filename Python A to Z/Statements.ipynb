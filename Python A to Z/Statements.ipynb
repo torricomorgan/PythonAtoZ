{
 "cells": [
  {
   "cell_type": "code",
   "execution_count": 3,
   "id": "bdee68c2-7dac-495e-b152-a0295abadc88",
   "metadata": {},
   "outputs": [],
   "source": [
    "import numpy as np\n",
    "from numpy.random import randn"
   ]
  },
  {
   "cell_type": "code",
   "execution_count": 31,
   "id": "0a7a9e61-da16-42ea-8680-43172fdf6264",
   "metadata": {},
   "outputs": [
    {
     "data": {
      "text/plain": [
       "-0.2600309911921841"
      ]
     },
     "execution_count": 31,
     "metadata": {},
     "output_type": "execute_result"
    }
   ],
   "source": [
    "randn()"
   ]
  },
  {
   "cell_type": "code",
   "execution_count": 62,
   "id": "e9481c24-2675-4c07-a3bf-94b3b8e81ee7",
   "metadata": {},
   "outputs": [
    {
     "name": "stdout",
     "output_type": "stream",
     "text": [
      "1.419301710469623  Is greater than 1\n"
     ]
    }
   ],
   "source": [
    "#Neasted statement\n",
    "x = randn()\n",
    "answer=None\n",
    "if x > 1:\n",
    "    answer = \" Is greater than 1\"\n",
    "else:\n",
    "    if x >= -1:\n",
    "        answer = \"Is between -1 and 1\"\n",
    "    else:\n",
    "        answer = \" Is less than -1\"\n",
    "print (x, answer)"
   ]
  },
  {
   "cell_type": "code",
   "execution_count": 67,
   "id": "34b098eb-8bb6-4015-bc3b-f741003eda7a",
   "metadata": {},
   "outputs": [
    {
     "name": "stdout",
     "output_type": "stream",
     "text": [
      "1.3341585693641305  Is greater than 1\n"
     ]
    }
   ],
   "source": [
    "#Chained Statements\n",
    "x = randn()\n",
    "answer=None\n",
    "if x > 1:\n",
    "    answer = \" Is greater than 1\"\n",
    "elif x >= -1 :\n",
    "    answer = \"Is between -1 and 1\"\n",
    "else:\n",
    "    answer = \" Is less than -1\"\n",
    "print (x, answer)"
   ]
  }
 ],
 "metadata": {
  "kernelspec": {
   "display_name": "Python 3 (ipykernel)",
   "language": "python",
   "name": "python3"
  },
  "language_info": {
   "codemirror_mode": {
    "name": "ipython",
    "version": 3
   },
   "file_extension": ".py",
   "mimetype": "text/x-python",
   "name": "python",
   "nbconvert_exporter": "python",
   "pygments_lexer": "ipython3",
   "version": "3.11.7"
  }
 },
 "nbformat": 4,
 "nbformat_minor": 5
}

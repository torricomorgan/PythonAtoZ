{
 "cells": [
  {
   "cell_type": "markdown",
   "id": "a48789e4-98b3-4718-af0e-68ce94a8a606",
   "metadata": {},
   "source": [
    "# Arrays"
   ]
  },
  {
   "cell_type": "code",
   "execution_count": 1,
   "id": "20f7a42a-35b2-441a-a712-634cd3ac9c3b",
   "metadata": {},
   "outputs": [],
   "source": [
    "import numpy as np"
   ]
  },
  {
   "cell_type": "code",
   "execution_count": 5,
   "id": "ca6e8560-13ed-4760-9be3-f79907f29103",
   "metadata": {},
   "outputs": [],
   "source": [
    "x = np.array([1,4,2,4,\"hola\"])"
   ]
  },
  {
   "cell_type": "code",
   "execution_count": 6,
   "id": "f9a0e6ad-8215-43df-b45c-55fc56bf19da",
   "metadata": {},
   "outputs": [
    {
     "name": "stdout",
     "output_type": "stream",
     "text": [
      "['1' '4' '2' '4' 'hola']\n"
     ]
    }
   ],
   "source": [
    "print (x)"
   ]
  },
  {
   "cell_type": "code",
   "execution_count": 7,
   "id": "cef9a4a4-7998-41c4-b10f-c2cbe7889df2",
   "metadata": {},
   "outputs": [
    {
     "data": {
      "text/plain": [
       "array(['2', '4', 'hola'], dtype='<U11')"
      ]
     },
     "execution_count": 7,
     "metadata": {},
     "output_type": "execute_result"
    }
   ],
   "source": [
    "x[2:5]"
   ]
  },
  {
   "cell_type": "code",
   "execution_count": 8,
   "id": "6b3138c2-7819-464c-b344-adb234fe5ad5",
   "metadata": {},
   "outputs": [],
   "source": [
    "y = x[1:2]"
   ]
  },
  {
   "cell_type": "code",
   "execution_count": 9,
   "id": "c4eba06b-6cbd-4977-8a2c-503886ccaaaf",
   "metadata": {},
   "outputs": [
    {
     "data": {
      "text/plain": [
       "array(['4'], dtype='<U11')"
      ]
     },
     "execution_count": 9,
     "metadata": {},
     "output_type": "execute_result"
    }
   ],
   "source": [
    "y"
   ]
  },
  {
   "cell_type": "code",
   "execution_count": 11,
   "id": "03de27e4-4fb6-4a33-99cf-c76392cc6618",
   "metadata": {},
   "outputs": [],
   "source": [
    "y[0] = 123"
   ]
  },
  {
   "cell_type": "code",
   "execution_count": 12,
   "id": "af8ec868-6069-4580-9c31-de05c5c416cb",
   "metadata": {},
   "outputs": [
    {
     "name": "stdout",
     "output_type": "stream",
     "text": [
      "['123']\n",
      "['1' '123' '2' '4' 'hola']\n"
     ]
    }
   ],
   "source": [
    "print(y)\n",
    "print(x)"
   ]
  },
  {
   "cell_type": "code",
   "execution_count": 14,
   "id": "94ef88fb-1deb-4697-bced-252573c377ea",
   "metadata": {},
   "outputs": [
    {
     "data": {
      "text/plain": [
       "array(['1', '123', '2', '4', 'hola'], dtype='<U11')"
      ]
     },
     "execution_count": 14,
     "metadata": {},
     "output_type": "execute_result"
    }
   ],
   "source": [
    "a = x.copy()\n",
    "a"
   ]
  },
  {
   "cell_type": "raw",
   "id": "bb921f6e-595f-4fc5-a59c-858098959fdf",
   "metadata": {},
   "source": [
    "a[0]=0"
   ]
  },
  {
   "cell_type": "code",
   "execution_count": 22,
   "id": "1e39ad9d-0865-496a-8072-957c119db824",
   "metadata": {},
   "outputs": [
    {
     "data": {
      "text/plain": [
       "array(['1', '123', '2', '4', 'hola'], dtype='<U11')"
      ]
     },
     "execution_count": 22,
     "metadata": {},
     "output_type": "execute_result"
    }
   ],
   "source": [
    "a"
   ]
  },
  {
   "cell_type": "code",
   "execution_count": null,
   "id": "b84867af-8403-4549-8b17-ae2482702e82",
   "metadata": {},
   "outputs": [],
   "source": []
  }
 ],
 "metadata": {
  "kernelspec": {
   "display_name": "Python 3 (ipykernel)",
   "language": "python",
   "name": "python3"
  },
  "language_info": {
   "codemirror_mode": {
    "name": "ipython",
    "version": 3
   },
   "file_extension": ".py",
   "mimetype": "text/x-python",
   "name": "python",
   "nbconvert_exporter": "python",
   "pygments_lexer": "ipython3",
   "version": "3.11.7"
  }
 },
 "nbformat": 4,
 "nbformat_minor": 5
}

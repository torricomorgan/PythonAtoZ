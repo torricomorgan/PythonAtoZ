{
 "cells": [
  {
   "cell_type": "markdown",
   "id": "a87e5ed5-56e9-4975-bf43-00439c94a0a8",
   "metadata": {},
   "source": [
    "While Loop\n",
    "---"
   ]
  },
  {
   "cell_type": "code",
   "execution_count": 4,
   "id": "ac4fad75-d646-4981-acc7-4a07f9233ba8",
   "metadata": {},
   "outputs": [
    {
     "name": "stdout",
     "output_type": "stream",
     "text": [
      "0\n",
      "1\n",
      "2\n",
      "3\n",
      "4\n",
      "5\n",
      "6\n",
      "7\n",
      "8\n",
      "9\n"
     ]
    }
   ],
   "source": [
    "count = 0\n",
    "while count < 10:\n",
    "    print(count)\n",
    "    count+=1"
   ]
  },
  {
   "cell_type": "markdown",
   "id": "66f73fb2-5a43-4584-8efd-72a490e7d57e",
   "metadata": {},
   "source": [
    "For loop\n",
    "---"
   ]
  },
  {
   "cell_type": "code",
   "execution_count": 7,
   "id": "5dd908c7-418e-40ef-a091-0327309ec011",
   "metadata": {},
   "outputs": [
    {
     "name": "stdout",
     "output_type": "stream",
     "text": [
      "Numero:  0\n",
      "Numero:  1\n",
      "Numero:  2\n",
      "Numero:  3\n",
      "Numero:  4\n"
     ]
    }
   ],
   "source": [
    "for i in range (5):\n",
    "    print(\"Numero: \", i)"
   ]
  },
  {
   "cell_type": "code",
   "execution_count": 9,
   "id": "93e21508-625a-4300-8158-aea351765198",
   "metadata": {},
   "outputs": [
    {
     "name": "stdout",
     "output_type": "stream",
     "text": [
      "[10, 100, 1000]\n"
     ]
    }
   ],
   "source": [
    "listNum = [10, 100, 1000]\n",
    "print(listNum)"
   ]
  },
  {
   "cell_type": "code",
   "execution_count": 11,
   "id": "a732e926-2c2f-4780-a6d4-6d2ec2eb9541",
   "metadata": {},
   "outputs": [
    {
     "name": "stdout",
     "output_type": "stream",
     "text": [
      "Numero es igual a:  10\n",
      "Numero es igual a:  100\n",
      "Numero es igual a:  1000\n"
     ]
    }
   ],
   "source": [
    "for num in listNum:\n",
    "    print(\"Numero es igual a: \" , num)"
   ]
  },
  {
   "cell_type": "code",
   "execution_count": null,
   "id": "60c3e9d3-6bb9-4efe-a8e5-e7ee66cd1b63",
   "metadata": {},
   "outputs": [],
   "source": []
  }
 ],
 "metadata": {
  "kernelspec": {
   "display_name": "Python 3 (ipykernel)",
   "language": "python",
   "name": "python3"
  },
  "language_info": {
   "codemirror_mode": {
    "name": "ipython",
    "version": 3
   },
   "file_extension": ".py",
   "mimetype": "text/x-python",
   "name": "python",
   "nbconvert_exporter": "python",
   "pygments_lexer": "ipython3",
   "version": "3.11.7"
  }
 },
 "nbformat": 4,
 "nbformat_minor": 5
}

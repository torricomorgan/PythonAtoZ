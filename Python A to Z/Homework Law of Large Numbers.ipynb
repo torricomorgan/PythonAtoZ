{
 "cells": [
  {
   "cell_type": "markdown",
   "id": "c9022812-1ad9-460e-8976-452b2829f2ba",
   "metadata": {},
   "source": [
    "# Law of large numbers\n",
    "Count how many numbers fall between -1 and 1. It should be close to 68%"
   ]
  },
  {
   "cell_type": "code",
   "execution_count": 3,
   "id": "fa3921fe-6ff0-4512-933a-0959d1023413",
   "metadata": {},
   "outputs": [],
   "source": [
    "import numpy as np\n",
    "from numpy.random import randn"
   ]
  },
  {
   "cell_type": "code",
   "execution_count": 21,
   "id": "6d0d3a09-bde6-4679-bd57-cb90c5d05975",
   "metadata": {},
   "outputs": [
    {
     "name": "stdout",
     "output_type": "stream",
     "text": [
      "Cayeron:  695  Porcentaje:  69.5 %\n"
     ]
    }
   ],
   "source": [
    "count = 0\n",
    "for i in range (1000):\n",
    "    ran = randn()\n",
    "    if ran >= -1 and ran <=1:\n",
    "        count+=1\n",
    "        \n",
    "porcentaje = (count/1000)*100\n",
    "print (\"Cayeron: \", count, \" Porcentaje: \", porcentaje, \"%\")"
   ]
  },
  {
   "cell_type": "code",
   "execution_count": null,
   "id": "e587b93d-7f3e-462e-8624-8511eb75c588",
   "metadata": {},
   "outputs": [],
   "source": []
  }
 ],
 "metadata": {
  "kernelspec": {
   "display_name": "Python 3 (ipykernel)",
   "language": "python",
   "name": "python3"
  },
  "language_info": {
   "codemirror_mode": {
    "name": "ipython",
    "version": 3
   },
   "file_extension": ".py",
   "mimetype": "text/x-python",
   "name": "python",
   "nbconvert_exporter": "python",
   "pygments_lexer": "ipython3",
   "version": "3.11.7"
  }
 },
 "nbformat": 4,
 "nbformat_minor": 5
}

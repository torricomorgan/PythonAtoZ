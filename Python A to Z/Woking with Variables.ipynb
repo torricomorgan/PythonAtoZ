{
 "cells": [
  {
   "cell_type": "code",
   "execution_count": 1,
   "id": "277b2a58-4590-46be-adae-5dc37d3960b4",
   "metadata": {},
   "outputs": [
    {
     "name": "stdout",
     "output_type": "stream",
     "text": [
      "10\n",
      "2\n"
     ]
    }
   ],
   "source": [
    "#Definiions\n",
    "A=10\n",
    "B=2\n",
    "print (A)\n",
    "print (B)"
   ]
  },
  {
   "cell_type": "markdown",
   "id": "7aea5030-2755-47b2-8145-917c167f497d",
   "metadata": {},
   "source": [
    "---"
   ]
  },
  {
   "cell_type": "code",
   "execution_count": 4,
   "id": "14b277db-d88d-4ce9-a4d7-7e90fe3900a0",
   "metadata": {},
   "outputs": [],
   "source": [
    "import math\n",
    "C = math.sqrt(A)"
   ]
  },
  {
   "cell_type": "code",
   "execution_count": 5,
   "id": "e3f6c85d-4ba4-418f-b9bd-c184634c7b20",
   "metadata": {},
   "outputs": [
    {
     "data": {
      "text/plain": [
       "3"
      ]
     },
     "execution_count": 5,
     "metadata": {},
     "output_type": "execute_result"
    }
   ],
   "source": [
    "round(C)"
   ]
  },
  {
   "cell_type": "code",
   "execution_count": 11,
   "id": "a2d64cbd-b9c5-40e8-9c7f-84839f25962c",
   "metadata": {},
   "outputs": [
    {
     "name": "stdout",
     "output_type": "stream",
     "text": [
      "Bienvenido Matias!\n"
     ]
    }
   ],
   "source": [
    "#Mensaje\n",
    "saludo = \"Bienvenido\"\n",
    "nombre = \"Matias\"\n",
    "mensaje = saludo + \" \" + nombre + \"!\"\n",
    "print(mensaje)"
   ]
  },
  {
   "cell_type": "code",
   "execution_count": null,
   "id": "f101d07d-2fa1-438b-b344-96ba8be51962",
   "metadata": {},
   "outputs": [],
   "source": []
  }
 ],
 "metadata": {
  "kernelspec": {
   "display_name": "Python 3 (ipykernel)",
   "language": "python",
   "name": "python3"
  },
  "language_info": {
   "codemirror_mode": {
    "name": "ipython",
    "version": 3
   },
   "file_extension": ".py",
   "mimetype": "text/x-python",
   "name": "python",
   "nbconvert_exporter": "python",
   "pygments_lexer": "ipython3",
   "version": "3.11.7"
  }
 },
 "nbformat": 4,
 "nbformat_minor": 5
}
